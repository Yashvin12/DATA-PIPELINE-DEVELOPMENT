{
 "cells": [
  {
   "cell_type": "code",
   "execution_count": 1,
   "id": "7cd54bb2-88a4-4c20-b393-93a2f570ff96",
   "metadata": {},
   "outputs": [
    {
     "name": "stdout",
     "output_type": "stream",
     "text": [
      "Requirement already satisfied: pandas in c:\\users\\yashvin\\appdata\\local\\programs\\python\\python311\\lib\\site-packages (2.2.3)\n",
      "Requirement already satisfied: scikit-learn in c:\\users\\yashvin\\appdata\\local\\programs\\python\\python311\\lib\\site-packages (1.6.1)\n",
      "Requirement already satisfied: numpy>=1.23.2 in c:\\users\\yashvin\\appdata\\local\\programs\\python\\python311\\lib\\site-packages (from pandas) (2.2.2)\n",
      "Requirement already satisfied: python-dateutil>=2.8.2 in c:\\users\\yashvin\\appdata\\local\\programs\\python\\python311\\lib\\site-packages (from pandas) (2.8.2)\n",
      "Requirement already satisfied: pytz>=2020.1 in c:\\users\\yashvin\\appdata\\local\\programs\\python\\python311\\lib\\site-packages (from pandas) (2025.1)\n",
      "Requirement already satisfied: tzdata>=2022.7 in c:\\users\\yashvin\\appdata\\local\\programs\\python\\python311\\lib\\site-packages (from pandas) (2025.1)\n",
      "Requirement already satisfied: scipy>=1.6.0 in c:\\users\\yashvin\\appdata\\local\\programs\\python\\python311\\lib\\site-packages (from scikit-learn) (1.15.1)\n",
      "Requirement already satisfied: joblib>=1.2.0 in c:\\users\\yashvin\\appdata\\local\\programs\\python\\python311\\lib\\site-packages (from scikit-learn) (1.4.2)\n",
      "Requirement already satisfied: threadpoolctl>=3.1.0 in c:\\users\\yashvin\\appdata\\local\\programs\\python\\python311\\lib\\site-packages (from scikit-learn) (3.5.0)\n",
      "Requirement already satisfied: six>=1.5 in c:\\users\\yashvin\\appdata\\local\\programs\\python\\python311\\lib\\site-packages (from python-dateutil>=2.8.2->pandas) (1.16.0)\n",
      "Note: you may need to restart the kernel to use updated packages.\n"
     ]
    },
    {
     "name": "stderr",
     "output_type": "stream",
     "text": [
      "\n",
      "[notice] A new release of pip available: 22.3.1 -> 25.0.1\n",
      "[notice] To update, run: python.exe -m pip install --upgrade pip\n"
     ]
    }
   ],
   "source": [
    "pip install pandas scikit-learn\n"
   ]
  },
  {
   "cell_type": "code",
   "execution_count": 2,
   "id": "f7cb2879-4cb2-438e-aa3a-345a191decca",
   "metadata": {},
   "outputs": [],
   "source": [
    "import pandas as pd\n",
    "import numpy as np\n",
    "from sklearn.preprocessing import StandardScaler\n",
    "\n",
    "def data_preprocessing_pipeline(data):\n",
    "    #Identify numeric and categorical features\n",
    "    numeric_features = data.select_dtypes(include=['float', 'int']).columns\n",
    "    categorical_features = data.select_dtypes(include=['object']).columns\n",
    "\n",
    "    #Handle missing values in numeric features\n",
    "    data[numeric_features] = data[numeric_features].fillna(data[numeric_features].mean())\n",
    "\n",
    "    #Detect and handle outliers in numeric features using IQR\n",
    "    for feature in numeric_features:\n",
    "        Q1 = data[feature].quantile(0.25)\n",
    "        Q3 = data[feature].quantile(0.75)\n",
    "        IQR = Q3 - Q1\n",
    "        lower_bound = Q1 - (1.5 * IQR)\n",
    "        upper_bound = Q3 + (1.5 * IQR)\n",
    "        data[feature] = np.where((data[feature] < lower_bound) | (data[feature] > upper_bound),\n",
    "                                 data[feature].mean(), data[feature])\n",
    "\n",
    "    #Normalize numeric features\n",
    "    scaler = StandardScaler()\n",
    "    scaled_data = scaler.fit_transform(data[numeric_features])\n",
    "    data[numeric_features] = scaler.transform(data[numeric_features])\n",
    "\n",
    "    #Handle missing values in categorical features\n",
    "    data[categorical_features] = data[categorical_features].fillna(data[categorical_features].mode().iloc[0])\n",
    "\n",
    "    return data"
   ]
  },
  {
   "cell_type": "code",
   "execution_count": 3,
   "id": "47386fc2-8918-490e-99cd-49526f21b5ae",
   "metadata": {},
   "outputs": [
    {
     "name": "stdout",
     "output_type": "stream",
     "text": [
      "Original Data:\n",
      "      id first_name   last_name                             email      gender  \\\n",
      "0    1.0   Wolfgang         NaN            wsteddall0@comsenz.com    Bigender   \n",
      "1    2.0    Ardelle         NaN             afader1@wikipedia.org      Female   \n",
      "2    3.0    Shaughn   Prozescky              sprozescky2@blog.com        Male   \n",
      "3    4.0     Frasco    Korpolak                               NaN        Male   \n",
      "4    5.0      Penny       Klaes                  pklaes4@about.me  Non-binary   \n",
      "5    6.0    Gusella         NaN          gbarnsdale5@facebook.com      Female   \n",
      "6    NaN   Langsdon   MacAlpine         lmacalpine6@google.com.au        Male   \n",
      "7    8.0     Monroe         NaN           mdelacey7@google.com.hk        Male   \n",
      "8    9.0      Fidel     Manueli             fmanueli8@tinyurl.com        Male   \n",
      "9   10.0     Kesley         NaN             kcivitillo9@google.fr      Female   \n",
      "10  11.0     Corbin      Sidden                csiddena@jigsy.com        Male   \n",
      "11  12.0  Bathsheba    Robilart             brobilartb@joomla.org      Female   \n",
      "12  13.0       Vyky       Loker        vlokerc@washingtonpost.com      Female   \n",
      "13  14.0    Raynell       Gabel                 rgabeld@upenn.edu      Female   \n",
      "14  15.0    Timofei         NaN                 tmclagane@hud.gov        Male   \n",
      "15  16.0      Innis  Avramovich  iavramovichf@merriam-webster.com        Male   \n",
      "16  17.0      Sacha   Oldershaw            soldershawg@disqus.com      Female   \n",
      "17  18.0     Nessie     Metzing                               NaN      Female   \n",
      "18  19.0    Queenie      Jessep                               NaN  Polygender   \n",
      "19   NaN    Correna        True                               NaN      Female   \n",
      "\n",
      "         ip_address  \n",
      "0      1.128.90.200  \n",
      "1      41.238.71.73  \n",
      "2     27.241.117.22  \n",
      "3   194.131.113.213  \n",
      "4    117.166.33.225  \n",
      "5   121.231.249.216  \n",
      "6    96.163.206.127  \n",
      "7      71.179.67.18  \n",
      "8       40.51.140.5  \n",
      "9     43.63.150.207  \n",
      "10      4.129.49.39  \n",
      "11  172.139.123.194  \n",
      "12   47.103.167.183  \n",
      "13   51.179.225.164  \n",
      "14  126.221.241.219  \n",
      "15   149.182.132.44  \n",
      "16    13.217.255.49  \n",
      "17     141.9.81.161  \n",
      "18   223.128.207.88  \n",
      "19      92.29.89.84  \n"
     ]
    }
   ],
   "source": [
    "data = pd.read_csv(\"MOCK_DATA.csv\")\n",
    "\n",
    "print(\"Original Data:\")\n",
    "print(data)"
   ]
  },
  {
   "cell_type": "code",
   "execution_count": 4,
   "id": "1aa7d94a-6d1e-4236-a985-92c4670ff7ea",
   "metadata": {},
   "outputs": [
    {
     "name": "stdout",
     "output_type": "stream",
     "text": [
      "Preprocessed Data:\n",
      "          id first_name   last_name                             email  \\\n",
      "0  -1.731564   Wolfgang  Avramovich            wsteddall0@comsenz.com   \n",
      "1  -1.542666    Ardelle  Avramovich             afader1@wikipedia.org   \n",
      "2  -1.353768    Shaughn   Prozescky              sprozescky2@blog.com   \n",
      "3  -1.164871     Frasco    Korpolak             afader1@wikipedia.org   \n",
      "4  -0.975973      Penny       Klaes                  pklaes4@about.me   \n",
      "5  -0.787075    Gusella  Avramovich          gbarnsdale5@facebook.com   \n",
      "6   0.000000   Langsdon   MacAlpine         lmacalpine6@google.com.au   \n",
      "7  -0.409279     Monroe  Avramovich           mdelacey7@google.com.hk   \n",
      "8  -0.220381      Fidel     Manueli             fmanueli8@tinyurl.com   \n",
      "9  -0.031483     Kesley  Avramovich             kcivitillo9@google.fr   \n",
      "10  0.157415     Corbin      Sidden                csiddena@jigsy.com   \n",
      "11  0.346313  Bathsheba    Robilart             brobilartb@joomla.org   \n",
      "12  0.535211       Vyky       Loker        vlokerc@washingtonpost.com   \n",
      "13  0.724109    Raynell       Gabel                 rgabeld@upenn.edu   \n",
      "14  0.913007    Timofei  Avramovich                 tmclagane@hud.gov   \n",
      "15  1.101905      Innis  Avramovich  iavramovichf@merriam-webster.com   \n",
      "16  1.290802      Sacha   Oldershaw            soldershawg@disqus.com   \n",
      "17  1.479700     Nessie     Metzing             afader1@wikipedia.org   \n",
      "18  1.668598    Queenie      Jessep             afader1@wikipedia.org   \n",
      "19  0.000000    Correna        True             afader1@wikipedia.org   \n",
      "\n",
      "        gender       ip_address  \n",
      "0     Bigender     1.128.90.200  \n",
      "1       Female     41.238.71.73  \n",
      "2         Male    27.241.117.22  \n",
      "3         Male  194.131.113.213  \n",
      "4   Non-binary   117.166.33.225  \n",
      "5       Female  121.231.249.216  \n",
      "6         Male   96.163.206.127  \n",
      "7         Male     71.179.67.18  \n",
      "8         Male      40.51.140.5  \n",
      "9       Female    43.63.150.207  \n",
      "10        Male      4.129.49.39  \n",
      "11      Female  172.139.123.194  \n",
      "12      Female   47.103.167.183  \n",
      "13      Female   51.179.225.164  \n",
      "14        Male  126.221.241.219  \n",
      "15        Male   149.182.132.44  \n",
      "16      Female    13.217.255.49  \n",
      "17      Female     141.9.81.161  \n",
      "18  Polygender   223.128.207.88  \n",
      "19      Female      92.29.89.84  \n"
     ]
    }
   ],
   "source": [
    "#Perform data preprocessing\n",
    "cleaned_data = data_preprocessing_pipeline(data)\n",
    "\n",
    "print(\"Preprocessed Data:\")\n",
    "print(cleaned_data)"
   ]
  },
  {
   "cell_type": "code",
   "execution_count": 6,
   "id": "ce542a51-0f7a-43f9-95ff-327d0f98dec0",
   "metadata": {},
   "outputs": [
    {
     "name": "stdout",
     "output_type": "stream",
     "text": [
      "Transformed Data:\n",
      "         0         1         2         3         4         5             6   \\\n",
      "0 -2.011251 -0.396914  0.632020  0.240970  0.663867  1.337801 -4.734861e-17   \n",
      "1 -1.437522 -1.156223  0.102734  0.812778 -0.309986 -0.305712  2.906354e-17   \n",
      "2 -1.553773  0.629607 -0.611821 -0.423469 -0.568107  0.281464 -2.627342e-02   \n",
      "3 -1.234912  0.370920 -1.016359  0.775915 -0.489178 -0.286420  1.105773e-15   \n",
      "4 -1.089705 -0.190323 -0.742556 -0.757944  1.733860 -0.898008  4.480530e-16   \n",
      "\n",
      "             7             8             9             10        11        12  \\\n",
      "0 -1.183715e-17  6.013231e-16  1.420458e-16 -4.734861e-17 -0.474776 -0.541715   \n",
      "1  2.375785e-16  1.348539e-15  7.035126e-16  2.377998e-16 -0.094611  0.150588   \n",
      "2 -2.458145e-01  8.187286e-01  3.938354e-01  1.189616e-01  1.200541  0.174652   \n",
      "3 -1.351814e-14 -1.566385e-14  1.063508e-15 -1.163650e-14 -0.214116 -0.679228   \n",
      "4  3.572715e-16  2.748347e-15  5.640752e-16  3.257370e-16  0.046861 -0.070293   \n",
      "\n",
      "         13            14            15            16            17  \n",
      "0  0.429132  4.475845e-36 -7.608073e-15  3.844228e-17 -1.537691e-16  \n",
      "1 -0.122810  8.003117e-16 -7.342632e-17 -3.274469e-15 -3.200097e-15  \n",
      "2  0.467661  1.828863e-14 -9.239132e-16 -1.038609e-16 -6.047027e-15  \n",
      "3 -0.765509  2.338887e-01 -1.534864e-01 -5.285971e-01  4.564331e-01  \n",
      "4  0.087890 -1.737159e-16  1.151068e-16  9.234264e-17  2.485867e-16  \n"
     ]
    }
   ],
   "source": [
    "from sklearn.decomposition import PCA\n",
    "from sklearn.preprocessing import OneHotEncoder\n",
    "\n",
    "def transform_data(data, n_components=0.95):\n",
    "    # Identify numeric and categorical features\n",
    "    numeric_features = data.select_dtypes(include=['float', 'int']).columns\n",
    "    categorical_features = data.select_dtypes(include=['object']).columns\n",
    "\n",
    "    # Apply One-Hot Encoding to categorical features\n",
    "    encoder = OneHotEncoder(handle_unknown='ignore', sparse_output=False)\n",
    "    encoded_cats = encoder.fit_transform(data[categorical_features])\n",
    "    encoded_cat_df = pd.DataFrame(encoded_cats, columns=encoder.get_feature_names_out(categorical_features))\n",
    "\n",
    "    # Combine numeric and encoded categorical features\n",
    "    transformed_data = pd.concat([data[numeric_features].reset_index(drop=True), encoded_cat_df], axis=1)\n",
    "\n",
    "    # Apply PCA for dimensionality reduction (optional)\n",
    "    pca = PCA(n_components=n_components)  # Retain 95% of variance\n",
    "    transformed_data_pca = pca.fit_transform(transformed_data)\n",
    "\n",
    "    return pd.DataFrame(transformed_data_pca)\n",
    "\n",
    "# Perform data transformation\n",
    "transformed_data = transform_data(cleaned_data)\n",
    "\n",
    "# Print transformed data\n",
    "print(\"Transformed Data:\")\n",
    "print(transformed_data.head())\n"
   ]
  },
  {
   "cell_type": "code",
   "execution_count": null,
   "id": "206c76f4-9884-40ab-b055-29b529d52d0d",
   "metadata": {},
   "outputs": [],
   "source": []
  }
 ],
 "metadata": {
  "kernelspec": {
   "display_name": "Python [conda env:base] *",
   "language": "python",
   "name": "conda-base-py"
  },
  "language_info": {
   "codemirror_mode": {
    "name": "ipython",
    "version": 3
   },
   "file_extension": ".py",
   "mimetype": "text/x-python",
   "name": "python",
   "nbconvert_exporter": "python",
   "pygments_lexer": "ipython3",
   "version": "3.12.7"
  }
 },
 "nbformat": 4,
 "nbformat_minor": 5
}
